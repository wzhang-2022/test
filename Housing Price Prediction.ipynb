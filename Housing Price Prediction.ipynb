{
 "cells": [
  {
   "cell_type": "code",
   "execution_count": 1,
   "id": "c7078aa8",
   "metadata": {},
   "outputs": [],
   "source": [
    "#Import libraries\n",
    "import pandas as pd\n",
    "import numpy as np\n",
    "import matplotlib.pyplot as plt\n",
    "import seaborn as sns"
   ]
  },
  {
   "cell_type": "markdown",
   "id": "688ae55f",
   "metadata": {},
   "source": [
    "# Exploratory Data Analysis"
   ]
  },
  {
   "cell_type": "code",
   "execution_count": 2,
   "id": "c99190d5",
   "metadata": {},
   "outputs": [],
   "source": [
    "#Import Dataset\n",
    "raw_data = pd.read_csv('daft_ie_v1.csv')"
   ]
  },
  {
   "cell_type": "code",
   "execution_count": 3,
   "id": "db56496e",
   "metadata": {
    "scrolled": true
   },
   "outputs": [
    {
     "name": "stdout",
     "output_type": "stream",
     "text": [
      "<class 'pandas.core.frame.DataFrame'>\n",
      "RangeIndex: 3967 entries, 0 to 3966\n",
      "Data columns (total 22 columns):\n",
      " #   Column            Non-Null Count  Dtype  \n",
      "---  ------            --------------  -----  \n",
      " 0   id                3967 non-null   int64  \n",
      " 1   title             3967 non-null   object \n",
      " 2   featuredLevel     3967 non-null   object \n",
      " 3   publishDate       3967 non-null   object \n",
      " 4   price             3967 non-null   int64  \n",
      " 5   numBedrooms       3967 non-null   int64  \n",
      " 6   numBathrooms      3967 non-null   int64  \n",
      " 7   propertyType      3967 non-null   object \n",
      " 8   propertySize      3612 non-null   float64\n",
      " 9   category          3967 non-null   object \n",
      " 10  AMV_price         3967 non-null   int64  \n",
      " 11  sellerId          3967 non-null   float64\n",
      " 12  seller_name       3967 non-null   object \n",
      " 13  seller_branch     3967 non-null   object \n",
      " 14  sellerType        3967 non-null   object \n",
      " 15  m_totalImages     3967 non-null   float64\n",
      " 16  m_hasVideo        3967 non-null   bool   \n",
      " 17  m_hasVirtualTour  3967 non-null   bool   \n",
      " 18  m_hasBrochure     3967 non-null   bool   \n",
      " 19  ber_rating        3967 non-null   object \n",
      " 20  longitude         3967 non-null   float64\n",
      " 21  latitude          3967 non-null   float64\n",
      "dtypes: bool(3), float64(5), int64(5), object(9)\n",
      "memory usage: 600.6+ KB\n",
      "None\n"
     ]
    }
   ],
   "source": [
    "#Dataset Overview\n",
    "print(raw_data.info())"
   ]
  },
  {
   "cell_type": "code",
   "execution_count": 4,
   "id": "8b75d5d3",
   "metadata": {},
   "outputs": [
    {
     "data": {
      "text/plain": [
       "<AxesSubplot:>"
      ]
     },
     "execution_count": 4,
     "metadata": {},
     "output_type": "execute_result"
    },
    {
     "data": {
      "image/png": "[encoded data removed]",
      "text/plain": [
       "<Figure size 432x288 with 1 Axes>"
      ]
     },
     "metadata": {
      "needs_background": "light"
     },
     "output_type": "display_data"
    }
   ],
   "source": [
    "#Check if there is any null value\n",
    "sns.heatmap(raw_data.isnull(), cbar=False)\n",
    "#property size have null values"
   ]
  },
  {
   "cell_type": "code",
   "execution_count": 5,
   "id": "9d8f1ead",
   "metadata": {},
   "outputs": [
    {
     "name": "stdout",
     "output_type": "stream",
     "text": [
      "        id                                              title featuredLevel  \\\n",
      "0  3626025  11 Chestnut Crescent, Bridgemount, Carrigaline...      featured   \n",
      "1  3675175  58 The Glen, Kilnacourt Woods, Portarlington, ...      featured   \n",
      "2  3673450        16 Dodderbrook Park, Ballycullen, Dublin 24      featured   \n",
      "3  3649708      31 Lissanalta Drive, Dooradoyle, Co. Limerick      featured   \n",
      "4  3643947                5 Columba Terrace, Kells, Co. Meath      featured   \n",
      "\n",
      "  publishDate   price  numBedrooms  numBathrooms    propertyType  \\\n",
      "0  2022-01-28  290000            3             3  End of Terrace   \n",
      "1  2022-01-28  225000            3             2          Semi-D   \n",
      "2  2022-01-27  575000            4             3          Semi-D   \n",
      "3  2022-01-28  299000            3             3          Semi-D   \n",
      "4  2022-01-28  120000            3             1         Terrace   \n",
      "\n",
      "   propertySize category  ...       seller_name              seller_branch  \\\n",
      "0          96.0      Buy  ...       Roy Dennehy        Dennehy Auctioneers   \n",
      "1          93.0      Buy  ...     Marie Kiernan  Tom McDonald & Associates   \n",
      "2         162.0      Buy  ...          Moovingo                   Moovingo   \n",
      "3           NaN      Buy  ...  DNG Cusack Dunne           DNG Cusack Dunne   \n",
      "4          68.0      Buy  ...   REA T&J Gavigan          REA T & J Gavigan   \n",
      "\n",
      "      sellerType m_totalImages m_hasVideo  m_hasVirtualTour  m_hasBrochure  \\\n",
      "0  BRANDED_AGENT          16.0      False             False          False   \n",
      "1  BRANDED_AGENT          33.0      False             False          False   \n",
      "2  BRANDED_AGENT          38.0      False              True          False   \n",
      "3  BRANDED_AGENT          22.0      False             False          False   \n",
      "4  BRANDED_AGENT           5.0      False             False          False   \n",
      "\n",
      "   ber_rating  longitude   latitude  \n",
      "0          C2  -8.382500  51.822940  \n",
      "1          C1  -7.177098  53.157465  \n",
      "2          A3  -6.342763  53.269493  \n",
      "3          C2  -8.640716  52.629588  \n",
      "4           G  -6.879797  53.728601  \n",
      "\n",
      "[5 rows x 22 columns]\n"
     ]
    }
   ],
   "source": [
    "#Dataset Overview\n",
    "print(raw_data.head())"
   ]
  },
  {
   "cell_type": "code",
   "execution_count": 6,
   "id": "85e8b038",
   "metadata": {},
   "outputs": [
    {
     "name": "stdout",
     "output_type": "stream",
     "text": [
      "                 id         price  numBedrooms  numBathrooms  propertySize  \\\n",
      "count  3.967000e+03  3.967000e+03  3967.000000   3967.000000   3612.000000   \n",
      "mean   3.629047e+06  3.416734e+05     3.126292      2.077136    132.673865   \n",
      "std    2.502479e+05  2.703582e+05     1.230570      1.167772    295.246580   \n",
      "min    1.092100e+04  2.000000e+04     1.000000      1.000000      1.000000   \n",
      "25%    3.654066e+06  1.950000e+05     2.000000      1.000000     78.000000   \n",
      "50%    3.673795e+06  2.750000e+05     3.000000      2.000000    103.000000   \n",
      "75%    3.685990e+06  3.950000e+05     4.000000      3.000000    137.000000   \n",
      "max    3.695402e+06  4.500000e+06    23.000000     23.000000   8600.000000   \n",
      "\n",
      "         AMV_price      sellerId  m_totalImages    longitude     latitude  \n",
      "count  3967.000000  3.967000e+03    3967.000000  3967.000000  3967.000000  \n",
      "mean      0.047391  2.163815e+04      18.448954    -7.389964    53.133816  \n",
      "std       0.212500  2.541506e+05      10.537226     1.865587     0.716435  \n",
      "min       0.000000  7.000000e+00       0.000000  -100.445882    39.783730  \n",
      "25%       0.000000  2.178000e+03      12.000000    -8.426627    52.666116  \n",
      "50%       0.000000  3.255000e+03      17.000000    -7.050391    53.303346  \n",
      "75%       0.000000  8.806000e+03      23.000000    -6.298945    53.438722  \n",
      "max       1.000000  5.310328e+06     104.000000    -6.028016    55.299693  \n"
     ]
    }
   ],
   "source": [
    "#Dataset Overview\n",
    "print(raw_data.describe())\n",
    "#need to check outliers such as nobedroom, propertysize 1 and 8600"
   ]
  },
  {
   "cell_type": "code",
   "execution_count": 7,
   "id": "41304be5",
   "metadata": {},
   "outputs": [
    {
     "data": {
      "image/png": "[encoded data removed]",
      "text/plain": [
       "<Figure size 1080x1080 with 12 Axes>"
      ]
     },
     "metadata": {
      "needs_background": "light"
     },
     "output_type": "display_data"
    }
   ],
   "source": [
    "#Dataset Distribution Overview\n",
    "raw_data.hist(bins=50,figsize=(15,15))\n",
    "plt.show()\n",
    "#outliers in longtitude ad latitude\n",
    "#heavy tail for no. of bedrooms and bathrooms"
   ]
  },
  {
   "cell_type": "code",
   "execution_count": 8,
   "id": "0f5fa743",
   "metadata": {},
   "outputs": [
    {
     "name": "stdout",
     "output_type": "stream",
     "text": [
      "standard    3473\n",
      "premium      314\n",
      "featured     180\n",
      "Name: featuredLevel, dtype: int64\n",
      "Detached          1079\n",
      "Semi-D             981\n",
      "Apartment          718\n",
      "Terrace            614\n",
      "End of Terrace     244\n",
      "Bungalow           196\n",
      "Townhouse           63\n",
      "Duplex              50\n",
      "Site                19\n",
      "House                2\n",
      "Studio               1\n",
      "Name: propertyType, dtype: int64\n",
      "Buy          3869\n",
      "New Homes      98\n",
      "Name: category, dtype: int64\n",
      "C2        475\n",
      "C3        462\n",
      "C1        452\n",
      "D1        438\n",
      "D2        349\n",
      "B3        290\n",
      "G         242\n",
      "E1        213\n",
      "F         187\n",
      "SI_666    185\n",
      "E2        172\n",
      "XXX       169\n",
      "B2        105\n",
      "A2        102\n",
      "A3         97\n",
      "B1         24\n",
      "A1          4\n",
      "A1A2        1\n",
      "Name: ber_rating, dtype: int64\n",
      "False    3236\n",
      "True      731\n",
      "Name: m_hasVideo, dtype: int64\n",
      "False    3606\n",
      "True      361\n",
      "Name: m_hasVirtualTour, dtype: int64\n",
      "False    3835\n",
      "True      132\n",
      "Name: m_hasBrochure, dtype: int64\n",
      "0    3779\n",
      "1     188\n",
      "Name: AMV_price, dtype: int64\n"
     ]
    }
   ],
   "source": [
    "#find unique values for all categorical data\n",
    "raw_data_subset = raw_data[['featuredLevel','propertyType','category','ber_rating','m_hasVideo','m_hasVirtualTour','m_hasBrochure','AMV_price']]\n",
    "for col in raw_data_subset.columns:\n",
    "    print(raw_data_subset[col].value_counts()) # to print count of every category\n",
    "#We can see from the data a lot of data needs to be cleaned in BER rating, SI_666,XXX, A1A2"
   ]
  },
  {
   "cell_type": "code",
   "execution_count": 9,
   "id": "de5867c8",
   "metadata": {
    "scrolled": true
   },
   "outputs": [
    {
     "data": {
      "text/plain": [
       "price               1.000000\n",
       "numBathrooms        0.385685\n",
       "numBedrooms         0.361985\n",
       "propertySize        0.086300\n",
       "sellerId            0.020001\n",
       "m_hasBrochure       0.012194\n",
       "m_hasVirtualTour   -0.003794\n",
       "m_totalImages      -0.008185\n",
       "m_hasVideo         -0.010082\n",
       "longitude          -0.016931\n",
       "latitude           -0.017384\n",
       "id                 -0.081268\n",
       "AMV_price          -0.138033\n",
       "Name: price, dtype: float64"
      ]
     },
     "execution_count": 9,
     "metadata": {},
     "output_type": "execute_result"
    }
   ],
   "source": [
    "#check correlations between each attribute and property price \n",
    "corr_matrix = raw_data.corr()\n",
    "corr_matrix['price'].sort_values(ascending=False)"
   ]
  },
  {
   "cell_type": "code",
   "execution_count": 10,
   "id": "002d068f",
   "metadata": {},
   "outputs": [],
   "source": [
    "#load in county geographic info\n",
    "county = pd.read_csv('county.csv')\n",
    "raw_data_merged = pd.merge(raw_data,county, how=\"inner\", on=[\"id\"])"
   ]
  },
  {
   "cell_type": "code",
   "execution_count": 11,
   "id": "b6da4ce7",
   "metadata": {},
   "outputs": [
    {
     "data": {
      "text/plain": [
       "<AxesSubplot:xlabel='longitude', ylabel='latitude'>"
      ]
     },
     "execution_count": 11,
     "metadata": {},
     "output_type": "execute_result"
    },
    {
     "data": {
      "image/png": "[encoded data removed]",
      "text/plain": [
       "<Figure size 432x288 with 1 Axes>"
      ]
     },
     "metadata": {
      "needs_background": "light"
     },
     "output_type": "display_data"
    }
   ],
   "source": [
    "#plot lat/lon\n",
    "raw_data_merged.plot(kind=\"scatter\",x=\"longitude\",y=\"latitude\",alpha=0.1)\n",
    "#there is outlier in the datatset"
   ]
  },
  {
   "cell_type": "code",
   "execution_count": 12,
   "id": "d6797a43",
   "metadata": {},
   "outputs": [
    {
     "data": {
      "text/html": [
       "<div>\n",
       "<style scoped>\n",
       "    .dataframe tbody tr th:only-of-type {\n",
       "        vertical-align: middle;\n",
       "    }\n",
       "\n",
       "    .dataframe tbody tr th {\n",
       "        vertical-align: top;\n",
       "    }\n",
       "\n",
       "    .dataframe thead th {\n",
       "        text-align: right;\n",
       "    }\n",
       "</style>\n",
       "<table border=\"1\" class=\"dataframe\">\n",
       "  <thead>\n",
       "    <tr style=\"text-align: right;\">\n",
       "      <th></th>\n",
       "      <th>numBedrooms</th>\n",
       "      <th>numBathrooms</th>\n",
       "      <th>propertySize</th>\n",
       "      <th>price</th>\n",
       "      <th>longitude</th>\n",
       "      <th>latitude</th>\n",
       "    </tr>\n",
       "    <tr>\n",
       "      <th>propertyType</th>\n",
       "      <th></th>\n",
       "      <th></th>\n",
       "      <th></th>\n",
       "      <th></th>\n",
       "      <th></th>\n",
       "      <th></th>\n",
       "    </tr>\n",
       "  </thead>\n",
       "  <tbody>\n",
       "    <tr>\n",
       "      <th>Apartment</th>\n",
       "      <td>1.923398</td>\n",
       "      <td>1.527855</td>\n",
       "      <td>79.970282</td>\n",
       "      <td>281654.387187</td>\n",
       "      <td>-7.266028</td>\n",
       "      <td>53.168716</td>\n",
       "    </tr>\n",
       "    <tr>\n",
       "      <th>Bungalow</th>\n",
       "      <td>3.285714</td>\n",
       "      <td>1.750000</td>\n",
       "      <td>135.344444</td>\n",
       "      <td>321338.010204</td>\n",
       "      <td>-7.480642</td>\n",
       "      <td>53.058516</td>\n",
       "    </tr>\n",
       "    <tr>\n",
       "      <th>Detached</th>\n",
       "      <td>3.870250</td>\n",
       "      <td>2.558851</td>\n",
       "      <td>182.713987</td>\n",
       "      <td>412335.819277</td>\n",
       "      <td>-7.471360</td>\n",
       "      <td>53.108889</td>\n",
       "    </tr>\n",
       "    <tr>\n",
       "      <th>Duplex</th>\n",
       "      <td>2.760000</td>\n",
       "      <td>2.420000</td>\n",
       "      <td>99.543478</td>\n",
       "      <td>310053.000000</td>\n",
       "      <td>-7.306076</td>\n",
       "      <td>53.204885</td>\n",
       "    </tr>\n",
       "    <tr>\n",
       "      <th>End of Terrace</th>\n",
       "      <td>3.024590</td>\n",
       "      <td>2.020492</td>\n",
       "      <td>143.221739</td>\n",
       "      <td>334661.680328</td>\n",
       "      <td>-7.390618</td>\n",
       "      <td>53.087512</td>\n",
       "    </tr>\n",
       "    <tr>\n",
       "      <th>House</th>\n",
       "      <td>6.000000</td>\n",
       "      <td>3.000000</td>\n",
       "      <td>271.500000</td>\n",
       "      <td>625000.000000</td>\n",
       "      <td>-6.459762</td>\n",
       "      <td>53.322000</td>\n",
       "    </tr>\n",
       "    <tr>\n",
       "      <th>Semi-D</th>\n",
       "      <td>3.362895</td>\n",
       "      <td>2.247706</td>\n",
       "      <td>124.314480</td>\n",
       "      <td>335989.194699</td>\n",
       "      <td>-7.353824</td>\n",
       "      <td>53.173145</td>\n",
       "    </tr>\n",
       "    <tr>\n",
       "      <th>Site</th>\n",
       "      <td>1.000000</td>\n",
       "      <td>1.000000</td>\n",
       "      <td>113.000000</td>\n",
       "      <td>181918.421053</td>\n",
       "      <td>-7.085069</td>\n",
       "      <td>53.186237</td>\n",
       "    </tr>\n",
       "    <tr>\n",
       "      <th>Studio</th>\n",
       "      <td>1.000000</td>\n",
       "      <td>1.000000</td>\n",
       "      <td>328.000000</td>\n",
       "      <td>150000.000000</td>\n",
       "      <td>-6.272701</td>\n",
       "      <td>53.287025</td>\n",
       "    </tr>\n",
       "    <tr>\n",
       "      <th>Terrace</th>\n",
       "      <td>2.939739</td>\n",
       "      <td>1.739414</td>\n",
       "      <td>118.992895</td>\n",
       "      <td>321005.203583</td>\n",
       "      <td>-7.439356</td>\n",
       "      <td>53.108829</td>\n",
       "    </tr>\n",
       "    <tr>\n",
       "      <th>Townhouse</th>\n",
       "      <td>3.000000</td>\n",
       "      <td>2.000000</td>\n",
       "      <td>151.672414</td>\n",
       "      <td>263155.555556</td>\n",
       "      <td>-7.410892</td>\n",
       "      <td>53.127107</td>\n",
       "    </tr>\n",
       "  </tbody>\n",
       "</table>\n",
       "</div>"
      ],
      "text/plain": [
       "                numBedrooms  numBathrooms  propertySize          price  \\\n",
       "propertyType                                                             \n",
       "Apartment          1.923398      1.527855     79.970282  281654.387187   \n",
       "Bungalow           3.285714      1.750000    135.344444  321338.010204   \n",
       "Detached           3.870250      2.558851    182.713987  412335.819277   \n",
       "Duplex             2.760000      2.420000     99.543478  310053.000000   \n",
       "End of Terrace     3.024590      2.020492    143.221739  334661.680328   \n",
       "House              6.000000      3.000000    271.500000  625000.000000   \n",
       "Semi-D             3.362895      2.247706    124.314480  335989.194699   \n",
       "Site               1.000000      1.000000    113.000000  181918.421053   \n",
       "Studio             1.000000      1.000000    328.000000  150000.000000   \n",
       "Terrace            2.939739      1.739414    118.992895  321005.203583   \n",
       "Townhouse          3.000000      2.000000    151.672414  263155.555556   \n",
       "\n",
       "                longitude   latitude  \n",
       "propertyType                          \n",
       "Apartment       -7.266028  53.168716  \n",
       "Bungalow        -7.480642  53.058516  \n",
       "Detached        -7.471360  53.108889  \n",
       "Duplex          -7.306076  53.204885  \n",
       "End of Terrace  -7.390618  53.087512  \n",
       "House           -6.459762  53.322000  \n",
       "Semi-D          -7.353824  53.173145  \n",
       "Site            -7.085069  53.186237  \n",
       "Studio          -6.272701  53.287025  \n",
       "Terrace         -7.439356  53.108829  \n",
       "Townhouse       -7.410892  53.127107  "
      ]
     },
     "execution_count": 12,
     "metadata": {},
     "output_type": "execute_result"
    }
   ],
   "source": [
    "#Check the average value of the raw dataset by property Type \n",
    "df = raw_data_merged[['propertyType','numBedrooms','numBathrooms','propertySize','price','ber_rating','longitude','latitude','Region']]\n",
    "df.groupby([\"propertyType\"]).mean()\n",
    "#house and detached have higher values than others "
   ]
  },
  {
   "cell_type": "code",
   "execution_count": 13,
   "id": "e297028e",
   "metadata": {},
   "outputs": [
    {
     "data": {
      "text/html": [
       "<div>\n",
       "<style scoped>\n",
       "    .dataframe tbody tr th:only-of-type {\n",
       "        vertical-align: middle;\n",
       "    }\n",
       "\n",
       "    .dataframe tbody tr th {\n",
       "        vertical-align: top;\n",
       "    }\n",
       "\n",
       "    .dataframe thead th {\n",
       "        text-align: right;\n",
       "    }\n",
       "</style>\n",
       "<table border=\"1\" class=\"dataframe\">\n",
       "  <thead>\n",
       "    <tr style=\"text-align: right;\">\n",
       "      <th></th>\n",
       "      <th>numBedrooms</th>\n",
       "      <th>numBathrooms</th>\n",
       "      <th>propertySize</th>\n",
       "      <th>price</th>\n",
       "      <th>longitude</th>\n",
       "      <th>latitude</th>\n",
       "    </tr>\n",
       "    <tr>\n",
       "      <th>propertyType</th>\n",
       "      <th></th>\n",
       "      <th></th>\n",
       "      <th></th>\n",
       "      <th></th>\n",
       "      <th></th>\n",
       "      <th></th>\n",
       "    </tr>\n",
       "  </thead>\n",
       "  <tbody>\n",
       "    <tr>\n",
       "      <th>Apartment</th>\n",
       "      <td>1.923398</td>\n",
       "      <td>1.527855</td>\n",
       "      <td>79.970282</td>\n",
       "      <td>281654.387187</td>\n",
       "      <td>-7.266028</td>\n",
       "      <td>53.168716</td>\n",
       "    </tr>\n",
       "    <tr>\n",
       "      <th>Bungalow</th>\n",
       "      <td>3.285714</td>\n",
       "      <td>1.750000</td>\n",
       "      <td>135.344444</td>\n",
       "      <td>321338.010204</td>\n",
       "      <td>-7.480642</td>\n",
       "      <td>53.058516</td>\n",
       "    </tr>\n",
       "    <tr>\n",
       "      <th>Detached</th>\n",
       "      <td>3.870250</td>\n",
       "      <td>2.558851</td>\n",
       "      <td>182.713987</td>\n",
       "      <td>412335.819277</td>\n",
       "      <td>-7.471360</td>\n",
       "      <td>53.108889</td>\n",
       "    </tr>\n",
       "    <tr>\n",
       "      <th>Duplex</th>\n",
       "      <td>2.760000</td>\n",
       "      <td>2.420000</td>\n",
       "      <td>99.543478</td>\n",
       "      <td>310053.000000</td>\n",
       "      <td>-7.306076</td>\n",
       "      <td>53.204885</td>\n",
       "    </tr>\n",
       "    <tr>\n",
       "      <th>End of Terrace</th>\n",
       "      <td>3.024590</td>\n",
       "      <td>2.020492</td>\n",
       "      <td>143.221739</td>\n",
       "      <td>334661.680328</td>\n",
       "      <td>-7.390618</td>\n",
       "      <td>53.087512</td>\n",
       "    </tr>\n",
       "    <tr>\n",
       "      <th>House</th>\n",
       "      <td>6.000000</td>\n",
       "      <td>3.000000</td>\n",
       "      <td>271.500000</td>\n",
       "      <td>625000.000000</td>\n",
       "      <td>-6.459762</td>\n",
       "      <td>53.322000</td>\n",
       "    </tr>\n",
       "    <tr>\n",
       "      <th>Semi-D</th>\n",
       "      <td>3.362895</td>\n",
       "      <td>2.247706</td>\n",
       "      <td>124.314480</td>\n",
       "      <td>335989.194699</td>\n",
       "      <td>-7.353824</td>\n",
       "      <td>53.173145</td>\n",
       "    </tr>\n",
       "    <tr>\n",
       "      <th>Site</th>\n",
       "      <td>1.000000</td>\n",
       "      <td>1.000000</td>\n",
       "      <td>113.000000</td>\n",
       "      <td>181918.421053</td>\n",
       "      <td>-7.085069</td>\n",
       "      <td>53.186237</td>\n",
       "    </tr>\n",
       "    <tr>\n",
       "      <th>Studio</th>\n",
       "      <td>1.000000</td>\n",
       "      <td>1.000000</td>\n",
       "      <td>328.000000</td>\n",
       "      <td>150000.000000</td>\n",
       "      <td>-6.272701</td>\n",
       "      <td>53.287025</td>\n",
       "    </tr>\n",
       "    <tr>\n",
       "      <th>Terrace</th>\n",
       "      <td>2.939739</td>\n",
       "      <td>1.739414</td>\n",
       "      <td>118.992895</td>\n",
       "      <td>321005.203583</td>\n",
       "      <td>-7.439356</td>\n",
       "      <td>53.108829</td>\n",
       "    </tr>\n",
       "    <tr>\n",
       "      <th>Townhouse</th>\n",
       "      <td>3.000000</td>\n",
       "      <td>2.000000</td>\n",
       "      <td>151.672414</td>\n",
       "      <td>263155.555556</td>\n",
       "      <td>-7.410892</td>\n",
       "      <td>53.127107</td>\n",
       "    </tr>\n",
       "  </tbody>\n",
       "</table>\n",
       "</div>"
      ],
      "text/plain": [
       "                numBedrooms  numBathrooms  propertySize          price  \\\n",
       "propertyType                                                             \n",
       "Apartment          1.923398      1.527855     79.970282  281654.387187   \n",
       "Bungalow           3.285714      1.750000    135.344444  321338.010204   \n",
       "Detached           3.870250      2.558851    182.713987  412335.819277   \n",
       "Duplex             2.760000      2.420000     99.543478  310053.000000   \n",
       "End of Terrace     3.024590      2.020492    143.221739  334661.680328   \n",
       "House              6.000000      3.000000    271.500000  625000.000000   \n",
       "Semi-D             3.362895      2.247706    124.314480  335989.194699   \n",
       "Site               1.000000      1.000000    113.000000  181918.421053   \n",
       "Studio             1.000000      1.000000    328.000000  150000.000000   \n",
       "Terrace            2.939739      1.739414    118.992895  321005.203583   \n",
       "Townhouse          3.000000      2.000000    151.672414  263155.555556   \n",
       "\n",
       "                longitude   latitude  \n",
       "propertyType                          \n",
       "Apartment       -7.266028  53.168716  \n",
       "Bungalow        -7.480642  53.058516  \n",
       "Detached        -7.471360  53.108889  \n",
       "Duplex          -7.306076  53.204885  \n",
       "End of Terrace  -7.390618  53.087512  \n",
       "House           -6.459762  53.322000  \n",
       "Semi-D          -7.353824  53.173145  \n",
       "Site            -7.085069  53.186237  \n",
       "Studio          -6.272701  53.287025  \n",
       "Terrace         -7.439356  53.108829  \n",
       "Townhouse       -7.410892  53.127107  "
      ]
     },
     "execution_count": 13,
     "metadata": {},
     "output_type": "execute_result"
    }
   ],
   "source": [
    "#replace null property Size with mean value based on property Type\n",
    "means = df.groupby(['propertyType'])['propertySize'].mean()\n",
    "df = df.set_index(['propertyType'])\n",
    "df['propertySize'] = df['propertySize'].fillna(means)\n",
    "df = df.reset_index()\n",
    "df.groupby([\"propertyType\"]).mean()"
   ]
  },
  {
   "cell_type": "code",
   "execution_count": 14,
   "id": "99e5be71",
   "metadata": {},
   "outputs": [],
   "source": [
    "#Find points/outliers not in Ireland\n",
    "from sklearn.neighbors import NearestNeighbors\n",
    "nn = NearestNeighbors(n_neighbors=2)\n",
    "geo_loc = df[[\"longitude\",\"latitude\"]]\n",
    "nn.fit(geo_loc)\n",
    "# for each point, the first match is the point itself, the second match is the actual nearest neighbour\n",
    "distance,indices= nn.kneighbors(geo_loc)"
   ]
  },
  {
   "cell_type": "code",
   "execution_count": 15,
   "id": "0ccb3f1d",
   "metadata": {},
   "outputs": [
    {
     "name": "stdout",
     "output_type": "stream",
     "text": [
      "       distance\n",
      "3902  90.872398\n",
      "2771   0.237813\n",
      "1793   0.208960\n",
      "432    0.172814\n",
      "3887   0.170131\n",
      "...         ...\n",
      "438    0.000000\n",
      "3093   0.000000\n",
      "1991   0.000000\n",
      "1981   0.000000\n",
      "1983   0.000000\n",
      "\n",
      "[3967 rows x 1 columns]\n"
     ]
    }
   ],
   "source": [
    "#sort through the \"distances\" dataset to find values higher than you threshold and delete those entrie\n",
    "#check the outlier for the index \n",
    "dist = pd.DataFrame(distance[:,1])\n",
    "dist.columns =['distance']\n",
    "dist = dist.sort_values(by='distance',ascending=False)\n",
    "print(dist)"
   ]
  },
  {
   "cell_type": "code",
   "execution_count": 16,
   "id": "bef1f0b4",
   "metadata": {},
   "outputs": [],
   "source": [
    "#drop outlier, reset index\n",
    "df = df.drop([3902])\n",
    "df = df.reset_index()"
   ]
  },
  {
   "cell_type": "code",
   "execution_count": 17,
   "id": "f2ec4fff",
   "metadata": {},
   "outputs": [
    {
     "data": {
      "text/plain": [
       "<AxesSubplot:xlabel='longitude', ylabel='latitude'>"
      ]
     },
     "execution_count": 17,
     "metadata": {},
     "output_type": "execute_result"
    },
    {
     "data": {
      "image/png": "[encoded data removed]",
      "text/plain": [
       "<Figure size 1080x1080 with 2 Axes>"
      ]
     },
     "metadata": {
      "needs_background": "light"
     },
     "output_type": "display_data"
    }
   ],
   "source": [
    "#plot lat/lon \n",
    "df.plot(kind=\"scatter\",x=\"longitude\",y=\"latitude\",alpha=0.1,figsize=(15,15),c=\"price\",cmap=plt.get_cmap('jet'),colorbar=True,vmin = 0, vmax =1000000)\n",
    "#Most of the housing are in dublin"
   ]
  },
  {
   "cell_type": "code",
   "execution_count": 18,
   "id": "7b1135af",
   "metadata": {},
   "outputs": [
    {
     "name": "stdout",
     "output_type": "stream",
     "text": [
      "      index propertyType  numBedrooms  numBathrooms  propertySize    price  \\\n",
      "113     113     Detached           13            13    557.000000   650000   \n",
      "394     394     Detached           16             4     67.000000   900000   \n",
      "404     404     Detached           16            10    648.000000   695000   \n",
      "3070   3070     Detached           14             9   1208.000000  1600000   \n",
      "3143   3143     Detached           12            13    641.000000   795000   \n",
      "3932   3933     Detached           23            23    182.713987  1300000   \n",
      "\n",
      "     ber_rating  longitude   latitude      Region  \n",
      "113          A3  -7.500182  53.291586    Midlands  \n",
      "394          B3  -6.146728  53.295465      Dublin  \n",
      "404          C1  -6.547100  53.950781    Mid-East  \n",
      "3070     SI_666  -7.307695  53.033992    Midlands  \n",
      "3143         C2  -7.119738  52.263717  South-East  \n",
      "3932         A2  -6.445044  53.400966    Mid-East  \n"
     ]
    }
   ],
   "source": [
    "#Check raw data with bedrooms over 10\n",
    "max_bed = df[df['numBedrooms']>10]\n",
    "print(max_bed)"
   ]
  },
  {
   "cell_type": "code",
   "execution_count": 19,
   "id": "dfee9f5b",
   "metadata": {},
   "outputs": [
    {
     "name": "stdout",
     "output_type": "stream",
     "text": [
      "      index propertyType  numBedrooms  numBathrooms  propertySize    price  \\\n",
      "113     113     Detached           13            13    557.000000   650000   \n",
      "353     353     Detached           10            12    182.713987  2000000   \n",
      "3143   3143     Detached           12            13    641.000000   795000   \n",
      "3155   3155     Detached            7            11    517.000000  1250000   \n",
      "3932   3933     Detached           23            23    182.713987  1300000   \n",
      "\n",
      "     ber_rating  longitude   latitude      Region  \n",
      "113          A3  -7.500182  53.291586    Midlands  \n",
      "353          B2  -7.910401  52.381133    Mid-West  \n",
      "3143         C2  -7.119738  52.263717  South-East  \n",
      "3155         C3  -8.484469  51.891761  South-West  \n",
      "3932         A2  -6.445044  53.400966    Mid-East  \n"
     ]
    }
   ],
   "source": [
    "#Check raw data with bedrooms over 10\n",
    "max_bath = df[df['numBathrooms']>10]\n",
    "print(max_bath)"
   ]
  },
  {
   "cell_type": "code",
   "execution_count": 20,
   "id": "62026066",
   "metadata": {},
   "outputs": [],
   "source": [
    "#drop index 394,3932 and 353 outlier, reset index\n",
    "df = df.drop([394])\n",
    "df = df.drop([3932])\n",
    "df = df.drop([353])\n",
    "df = df.reset_index()"
   ]
  },
  {
   "cell_type": "code",
   "execution_count": 21,
   "id": "ed0f43ae",
   "metadata": {},
   "outputs": [
    {
     "name": "stdout",
     "output_type": "stream",
     "text": [
      "C2         475\n",
      "C3         462\n",
      "C1         452\n",
      "D1         438\n",
      "UNKNOWN    353\n",
      "D2         349\n",
      "B3         289\n",
      "G          242\n",
      "E1         213\n",
      "F          187\n",
      "E2         172\n",
      "B2         104\n",
      "A2         101\n",
      "A3          97\n",
      "B1          24\n",
      "A1           5\n",
      "Name: ber_rating, dtype: int64\n"
     ]
    }
   ],
   "source": [
    "#replace invalid BER rating values to UNKNOWN\n",
    "df['ber_rating'] = df['ber_rating'].str.replace(r'SI_666', 'UNKNOWN', regex=True).astype('str')\n",
    "df['ber_rating'] = df['ber_rating'].str.replace(r'XXX', 'UNKNOWN', regex=True).astype('str')\n",
    "df['ber_rating'] = df['ber_rating'].str.replace(r'A1A2', 'A1', regex=True).astype('str')\n",
    "print(df['ber_rating'].value_counts())"
   ]
  },
  {
   "cell_type": "code",
   "execution_count": 22,
   "id": "31587a82",
   "metadata": {},
   "outputs": [
    {
     "data": {
      "image/png": "[encoded data removed]",
      "text/plain": [
       "<Figure size 432x288 with 1 Axes>"
      ]
     },
     "metadata": {
      "needs_background": "light"
     },
     "output_type": "display_data"
    }
   ],
   "source": [
    "#Plot average house price in each Region\n",
    "df.groupby('Region', as_index=False)['price'].mean()\n",
    "p = sns.violinplot(x=\"Region\", y=\"price\", data=df)"
   ]
  },
  {
   "cell_type": "code",
   "execution_count": 23,
   "id": "a3af02aa",
   "metadata": {},
   "outputs": [
    {
     "data": {
      "image/png": "[encoded data removed]",
      "text/plain": [
       "<Figure size 432x288 with 1 Axes>"
      ]
     },
     "metadata": {
      "needs_background": "light"
     },
     "output_type": "display_data"
    }
   ],
   "source": [
    "#Plot average house price for each BER_rating\n",
    "df.groupby('ber_rating', as_index=False)['price'].mean()\n",
    "p = sns.barplot(x=\"ber_rating\", y=\"price\", data=df)"
   ]
  },
  {
   "cell_type": "code",
   "execution_count": 24,
   "id": "a61811ae",
   "metadata": {},
   "outputs": [
    {
     "data": {
      "image/png": "[encoded data removed]",
      "text/plain": [
       "<Figure size 432x288 with 1 Axes>"
      ]
     },
     "metadata": {
      "needs_background": "light"
     },
     "output_type": "display_data"
    }
   ],
   "source": [
    "#Plot average house price in each Property Type \n",
    "df.groupby('propertyType', as_index=False)['price'].mean()\n",
    "p = sns.barplot(x=\"propertyType\", y=\"price\", data=df)"
   ]
  },
  {
   "cell_type": "markdown",
   "id": "3ac9c098",
   "metadata": {},
   "source": [
    "# Convert Categorical Attributes to Ordinal Number"
   ]
  },
  {
   "cell_type": "code",
   "execution_count": 25,
   "id": "dbdf585a",
   "metadata": {},
   "outputs": [],
   "source": [
    "df_encoded = df\n",
    "from sklearn.compose import ColumnTransformer\n",
    "from sklearn.preprocessing import OrdinalEncoder\n",
    "categorical_attribs = ['ber_rating','propertyType','Region']\n",
    "ct = ColumnTransformer([\n",
    "    (\"categorical\",OrdinalEncoder(),categorical_attribs) \n",
    "  ])\n",
    "df_encoded = ct.fit_transform(df_encoded)\n",
    "cat = pd.DataFrame(df_encoded, columns = ['ber_rating_encoded','propertyType_encoded','Region_encoded'])\n",
    "df = pd.concat([df, cat], axis=1)"
   ]
  },
  {
   "cell_type": "code",
   "execution_count": 26,
   "id": "48085c5a",
   "metadata": {},
   "outputs": [
    {
     "data": {
      "text/plain": [
       "(0.0, 1000000.0)"
      ]
     },
     "execution_count": 26,
     "metadata": {},
     "output_type": "execute_result"
    },
    {
     "data": {
      "image/png": "[encoded data removed]",
      "text/plain": [
       "<Figure size 432x288 with 1 Axes>"
      ]
     },
     "metadata": {
      "needs_background": "light"
     },
     "output_type": "display_data"
    }
   ],
   "source": [
    "#Prepartion for break prices into different categories, check distribution under 1million\n",
    "ax = sns.violinplot(y=\"price\", data=df)\n",
    "plt.ylim(0,1000000)"
   ]
  },
  {
   "cell_type": "code",
   "execution_count": 27,
   "id": "d194e514",
   "metadata": {},
   "outputs": [],
   "source": [
    "#Break Property price into different categories\n",
    "df['price_cat'] = pd.cut(df.price,bins=[0,200000,400000,600000,800000,1000000],labels=[0,1,2,3,4],right=False)"
   ]
  },
  {
   "cell_type": "code",
   "execution_count": 28,
   "id": "f9d10a6f",
   "metadata": {},
   "outputs": [
    {
     "data": {
      "text/plain": [
       "price_category\n",
       "0    1.466902e+05\n",
       "1    2.905094e+05\n",
       "2    4.814647e+05\n",
       "3    6.908111e+05\n",
       "4    8.864487e+05\n",
       "5    1.591793e+06\n",
       "Name: price, dtype: float64"
      ]
     },
     "execution_count": 28,
     "metadata": {},
     "output_type": "execute_result"
    }
   ],
   "source": [
    "#Label Coding price category, convert it to int\n",
    "from sklearn.preprocessing import LabelEncoder\n",
    "LE = LabelEncoder()\n",
    "df['price_category'] = LE.fit_transform(df['price_cat'])\n",
    "df.groupby(['price_category'])['price'].mean()"
   ]
  },
  {
   "cell_type": "code",
   "execution_count": 29,
   "id": "b5d576a5",
   "metadata": {},
   "outputs": [
    {
     "name": "stdout",
     "output_type": "stream",
     "text": [
      "<class 'pandas.core.frame.DataFrame'>\n",
      "RangeIndex: 3963 entries, 0 to 3962\n",
      "Data columns (total 16 columns):\n",
      " #   Column                Non-Null Count  Dtype   \n",
      "---  ------                --------------  -----   \n",
      " 0   level_0               3963 non-null   int64   \n",
      " 1   index                 3963 non-null   int64   \n",
      " 2   propertyType          3963 non-null   object  \n",
      " 3   numBedrooms           3963 non-null   int64   \n",
      " 4   numBathrooms          3963 non-null   int64   \n",
      " 5   propertySize          3963 non-null   float64 \n",
      " 6   price                 3963 non-null   int64   \n",
      " 7   ber_rating            3963 non-null   object  \n",
      " 8   longitude             3963 non-null   float64 \n",
      " 9   latitude              3963 non-null   float64 \n",
      " 10  Region                3963 non-null   object  \n",
      " 11  ber_rating_encoded    3963 non-null   float64 \n",
      " 12  propertyType_encoded  3963 non-null   float64 \n",
      " 13  Region_encoded        3963 non-null   float64 \n",
      " 14  price_cat             3871 non-null   category\n",
      " 15  price_category        3963 non-null   int64   \n",
      "dtypes: category(1), float64(6), int64(6), object(3)\n",
      "memory usage: 468.6+ KB\n"
     ]
    }
   ],
   "source": [
    "#Overview of final dataframe\n",
    "df.info()"
   ]
  },
  {
   "cell_type": "markdown",
   "id": "7accd228",
   "metadata": {},
   "source": [
    "# Test train split"
   ]
  },
  {
   "cell_type": "code",
   "execution_count": 30,
   "id": "2ed24fd8",
   "metadata": {
    "scrolled": true
   },
   "outputs": [],
   "source": [
    "#Create Stratified Test Set, make sure test and train dataset follows the geogprahic distribution\n",
    "from sklearn.model_selection import StratifiedShuffleSplit\n",
    "split = StratifiedShuffleSplit(n_splits=1,test_size=0.2,random_state=42)\n",
    "for train_index, test_index in split.split(df,df[\"Region\"]):\n",
    "    strat_train_set = df.loc[train_index]\n",
    "    strat_test_set = df.loc[test_index]"
   ]
  },
  {
   "cell_type": "code",
   "execution_count": 31,
   "id": "b4066e53",
   "metadata": {},
   "outputs": [
    {
     "data": {
      "text/plain": [
       "Dublin        0.321136\n",
       "South-West    0.137224\n",
       "Mid-East      0.121451\n",
       "West          0.105363\n",
       "South-East    0.088644\n",
       "Mid-West      0.078864\n",
       "Midlands      0.076972\n",
       "Border        0.070347\n",
       "Name: Region, dtype: float64"
      ]
     },
     "execution_count": 31,
     "metadata": {},
     "output_type": "execute_result"
    }
   ],
   "source": [
    "strat_train_set[\"Region\"].value_counts()/len(strat_train_set)"
   ]
  },
  {
   "cell_type": "code",
   "execution_count": 32,
   "id": "449b824a",
   "metadata": {},
   "outputs": [
    {
     "data": {
      "text/plain": [
       "Dublin        0.321564\n",
       "South-West    0.137453\n",
       "Mid-East      0.121059\n",
       "West          0.105927\n",
       "South-East    0.088272\n",
       "Mid-West      0.079445\n",
       "Midlands      0.076923\n",
       "Border        0.069357\n",
       "Name: Region, dtype: float64"
      ]
     },
     "execution_count": 32,
     "metadata": {},
     "output_type": "execute_result"
    }
   ],
   "source": [
    "strat_test_set[\"Region\"].value_counts()/len(strat_test_set)"
   ]
  },
  {
   "cell_type": "code",
   "execution_count": 33,
   "id": "eeb5562f",
   "metadata": {},
   "outputs": [
    {
     "name": "stdout",
     "output_type": "stream",
     "text": [
      "<class 'pandas.core.frame.DataFrame'>\n",
      "Int64Index: 3170 entries, 3025 to 1210\n",
      "Data columns (total 16 columns):\n",
      " #   Column                Non-Null Count  Dtype   \n",
      "---  ------                --------------  -----   \n",
      " 0   level_0               3170 non-null   int64   \n",
      " 1   index                 3170 non-null   int64   \n",
      " 2   propertyType          3170 non-null   object  \n",
      " 3   numBedrooms           3170 non-null   int64   \n",
      " 4   numBathrooms          3170 non-null   int64   \n",
      " 5   propertySize          3170 non-null   float64 \n",
      " 6   price                 3170 non-null   int64   \n",
      " 7   ber_rating            3170 non-null   object  \n",
      " 8   longitude             3170 non-null   float64 \n",
      " 9   latitude              3170 non-null   float64 \n",
      " 10  Region                3170 non-null   object  \n",
      " 11  ber_rating_encoded    3170 non-null   float64 \n",
      " 12  propertyType_encoded  3170 non-null   float64 \n",
      " 13  Region_encoded        3170 non-null   float64 \n",
      " 14  price_cat             3096 non-null   category\n",
      " 15  price_category        3170 non-null   int64   \n",
      "dtypes: category(1), float64(6), int64(6), object(3)\n",
      "memory usage: 399.6+ KB\n"
     ]
    }
   ],
   "source": [
    "strat_train_set.info()"
   ]
  },
  {
   "cell_type": "code",
   "execution_count": 34,
   "id": "f59789d7",
   "metadata": {},
   "outputs": [
    {
     "name": "stdout",
     "output_type": "stream",
     "text": [
      "<class 'pandas.core.frame.DataFrame'>\n",
      "Int64Index: 793 entries, 1165 to 2030\n",
      "Data columns (total 16 columns):\n",
      " #   Column                Non-Null Count  Dtype   \n",
      "---  ------                --------------  -----   \n",
      " 0   level_0               793 non-null    int64   \n",
      " 1   index                 793 non-null    int64   \n",
      " 2   propertyType          793 non-null    object  \n",
      " 3   numBedrooms           793 non-null    int64   \n",
      " 4   numBathrooms          793 non-null    int64   \n",
      " 5   propertySize          793 non-null    float64 \n",
      " 6   price                 793 non-null    int64   \n",
      " 7   ber_rating            793 non-null    object  \n",
      " 8   longitude             793 non-null    float64 \n",
      " 9   latitude              793 non-null    float64 \n",
      " 10  Region                793 non-null    object  \n",
      " 11  ber_rating_encoded    793 non-null    float64 \n",
      " 12  propertyType_encoded  793 non-null    float64 \n",
      " 13  Region_encoded        793 non-null    float64 \n",
      " 14  price_cat             775 non-null    category\n",
      " 15  price_category        793 non-null    int64   \n",
      "dtypes: category(1), float64(6), int64(6), object(3)\n",
      "memory usage: 100.1+ KB\n"
     ]
    }
   ],
   "source": [
    "strat_test_set.info()"
   ]
  },
  {
   "cell_type": "markdown",
   "id": "e1bc2f05",
   "metadata": {},
   "source": [
    "# Train a Decision Tree Model"
   ]
  },
  {
   "cell_type": "code",
   "execution_count": 35,
   "id": "a014e5e9",
   "metadata": {},
   "outputs": [],
   "source": [
    "#Define function to split features and label\n",
    "def split_dataset(df):\n",
    "    X_columns = ['propertyType_encoded','numBedrooms','numBathrooms','propertySize','ber_rating_encoded','Region_encoded']\n",
    "    #'propertyType_encoded','numBedrooms','numBathrooms','propertySize','ber_rating_encoded','Region_encoded'\n",
    "    y_columns = ['price_category']\n",
    "    X = pd.DataFrame(df, columns=X_columns)\n",
    "    y = pd.DataFrame(df, columns=y_columns)\n",
    "    return X,y "
   ]
  },
  {
   "cell_type": "code",
   "execution_count": 36,
   "id": "bb21c5c3",
   "metadata": {},
   "outputs": [],
   "source": [
    "X_train,y_train = split_dataset(strat_train_set)"
   ]
  },
  {
   "cell_type": "code",
   "execution_count": 37,
   "id": "5a3277d1",
   "metadata": {},
   "outputs": [
    {
     "data": {
      "text/html": [
       "<div>\n",
       "<style scoped>\n",
       "    .dataframe tbody tr th:only-of-type {\n",
       "        vertical-align: middle;\n",
       "    }\n",
       "\n",
       "    .dataframe tbody tr th {\n",
       "        vertical-align: top;\n",
       "    }\n",
       "\n",
       "    .dataframe thead th {\n",
       "        text-align: right;\n",
       "    }\n",
       "</style>\n",
       "<table border=\"1\" class=\"dataframe\">\n",
       "  <thead>\n",
       "    <tr style=\"text-align: right;\">\n",
       "      <th></th>\n",
       "      <th>propertyType_encoded</th>\n",
       "      <th>numBedrooms</th>\n",
       "      <th>numBathrooms</th>\n",
       "      <th>propertySize</th>\n",
       "      <th>ber_rating_encoded</th>\n",
       "      <th>Region_encoded</th>\n",
       "    </tr>\n",
       "  </thead>\n",
       "  <tbody>\n",
       "    <tr>\n",
       "      <th>3025</th>\n",
       "      <td>9.0</td>\n",
       "      <td>4</td>\n",
       "      <td>2</td>\n",
       "      <td>137.000000</td>\n",
       "      <td>5.0</td>\n",
       "      <td>2.0</td>\n",
       "    </tr>\n",
       "    <tr>\n",
       "      <th>2658</th>\n",
       "      <td>0.0</td>\n",
       "      <td>2</td>\n",
       "      <td>1</td>\n",
       "      <td>48.000000</td>\n",
       "      <td>6.0</td>\n",
       "      <td>1.0</td>\n",
       "    </tr>\n",
       "    <tr>\n",
       "      <th>3303</th>\n",
       "      <td>2.0</td>\n",
       "      <td>4</td>\n",
       "      <td>3</td>\n",
       "      <td>118.000000</td>\n",
       "      <td>11.0</td>\n",
       "      <td>3.0</td>\n",
       "    </tr>\n",
       "    <tr>\n",
       "      <th>252</th>\n",
       "      <td>1.0</td>\n",
       "      <td>3</td>\n",
       "      <td>1</td>\n",
       "      <td>135.344444</td>\n",
       "      <td>2.0</td>\n",
       "      <td>5.0</td>\n",
       "    </tr>\n",
       "    <tr>\n",
       "      <th>2874</th>\n",
       "      <td>0.0</td>\n",
       "      <td>1</td>\n",
       "      <td>1</td>\n",
       "      <td>68.000000</td>\n",
       "      <td>8.0</td>\n",
       "      <td>2.0</td>\n",
       "    </tr>\n",
       "    <tr>\n",
       "      <th>...</th>\n",
       "      <td>...</td>\n",
       "      <td>...</td>\n",
       "      <td>...</td>\n",
       "      <td>...</td>\n",
       "      <td>...</td>\n",
       "      <td>...</td>\n",
       "    </tr>\n",
       "    <tr>\n",
       "      <th>3960</th>\n",
       "      <td>9.0</td>\n",
       "      <td>3</td>\n",
       "      <td>1</td>\n",
       "      <td>118.992895</td>\n",
       "      <td>1.0</td>\n",
       "      <td>2.0</td>\n",
       "    </tr>\n",
       "    <tr>\n",
       "      <th>1976</th>\n",
       "      <td>7.0</td>\n",
       "      <td>1</td>\n",
       "      <td>1</td>\n",
       "      <td>89.000000</td>\n",
       "      <td>6.0</td>\n",
       "      <td>6.0</td>\n",
       "    </tr>\n",
       "    <tr>\n",
       "      <th>2726</th>\n",
       "      <td>0.0</td>\n",
       "      <td>2</td>\n",
       "      <td>2</td>\n",
       "      <td>82.000000</td>\n",
       "      <td>7.0</td>\n",
       "      <td>4.0</td>\n",
       "    </tr>\n",
       "    <tr>\n",
       "      <th>3022</th>\n",
       "      <td>6.0</td>\n",
       "      <td>3</td>\n",
       "      <td>1</td>\n",
       "      <td>84.000000</td>\n",
       "      <td>14.0</td>\n",
       "      <td>3.0</td>\n",
       "    </tr>\n",
       "    <tr>\n",
       "      <th>1210</th>\n",
       "      <td>9.0</td>\n",
       "      <td>3</td>\n",
       "      <td>2</td>\n",
       "      <td>88.000000</td>\n",
       "      <td>15.0</td>\n",
       "      <td>7.0</td>\n",
       "    </tr>\n",
       "  </tbody>\n",
       "</table>\n",
       "<p>3170 rows × 6 columns</p>\n",
       "</div>"
      ],
      "text/plain": [
       "      propertyType_encoded  numBedrooms  numBathrooms  propertySize  \\\n",
       "3025                   9.0            4             2    137.000000   \n",
       "2658                   0.0            2             1     48.000000   \n",
       "3303                   2.0            4             3    118.000000   \n",
       "252                    1.0            3             1    135.344444   \n",
       "2874                   0.0            1             1     68.000000   \n",
       "...                    ...          ...           ...           ...   \n",
       "3960                   9.0            3             1    118.992895   \n",
       "1976                   7.0            1             1     89.000000   \n",
       "2726                   0.0            2             2     82.000000   \n",
       "3022                   6.0            3             1     84.000000   \n",
       "1210                   9.0            3             2     88.000000   \n",
       "\n",
       "      ber_rating_encoded  Region_encoded  \n",
       "3025                 5.0             2.0  \n",
       "2658                 6.0             1.0  \n",
       "3303                11.0             3.0  \n",
       "252                  2.0             5.0  \n",
       "2874                 8.0             2.0  \n",
       "...                  ...             ...  \n",
       "3960                 1.0             2.0  \n",
       "1976                 6.0             6.0  \n",
       "2726                 7.0             4.0  \n",
       "3022                14.0             3.0  \n",
       "1210                15.0             7.0  \n",
       "\n",
       "[3170 rows x 6 columns]"
      ]
     },
     "execution_count": 37,
     "metadata": {},
     "output_type": "execute_result"
    }
   ],
   "source": [
    "X_train"
   ]
  },
  {
   "cell_type": "code",
   "execution_count": 38,
   "id": "218122b2",
   "metadata": {},
   "outputs": [
    {
     "data": {
      "text/html": [
       "<div>\n",
       "<style scoped>\n",
       "    .dataframe tbody tr th:only-of-type {\n",
       "        vertical-align: middle;\n",
       "    }\n",
       "\n",
       "    .dataframe tbody tr th {\n",
       "        vertical-align: top;\n",
       "    }\n",
       "\n",
       "    .dataframe thead th {\n",
       "        text-align: right;\n",
       "    }\n",
       "</style>\n",
       "<table border=\"1\" class=\"dataframe\">\n",
       "  <thead>\n",
       "    <tr style=\"text-align: right;\">\n",
       "      <th></th>\n",
       "      <th>price_category</th>\n",
       "    </tr>\n",
       "  </thead>\n",
       "  <tbody>\n",
       "    <tr>\n",
       "      <th>3025</th>\n",
       "      <td>1</td>\n",
       "    </tr>\n",
       "    <tr>\n",
       "      <th>2658</th>\n",
       "      <td>1</td>\n",
       "    </tr>\n",
       "    <tr>\n",
       "      <th>3303</th>\n",
       "      <td>1</td>\n",
       "    </tr>\n",
       "    <tr>\n",
       "      <th>252</th>\n",
       "      <td>0</td>\n",
       "    </tr>\n",
       "    <tr>\n",
       "      <th>2874</th>\n",
       "      <td>1</td>\n",
       "    </tr>\n",
       "    <tr>\n",
       "      <th>...</th>\n",
       "      <td>...</td>\n",
       "    </tr>\n",
       "    <tr>\n",
       "      <th>3960</th>\n",
       "      <td>1</td>\n",
       "    </tr>\n",
       "    <tr>\n",
       "      <th>1976</th>\n",
       "      <td>0</td>\n",
       "    </tr>\n",
       "    <tr>\n",
       "      <th>2726</th>\n",
       "      <td>2</td>\n",
       "    </tr>\n",
       "    <tr>\n",
       "      <th>3022</th>\n",
       "      <td>1</td>\n",
       "    </tr>\n",
       "    <tr>\n",
       "      <th>1210</th>\n",
       "      <td>1</td>\n",
       "    </tr>\n",
       "  </tbody>\n",
       "</table>\n",
       "<p>3170 rows × 1 columns</p>\n",
       "</div>"
      ],
      "text/plain": [
       "      price_category\n",
       "3025               1\n",
       "2658               1\n",
       "3303               1\n",
       "252                0\n",
       "2874               1\n",
       "...              ...\n",
       "3960               1\n",
       "1976               0\n",
       "2726               2\n",
       "3022               1\n",
       "1210               1\n",
       "\n",
       "[3170 rows x 1 columns]"
      ]
     },
     "execution_count": 38,
     "metadata": {},
     "output_type": "execute_result"
    }
   ],
   "source": [
    "y_train"
   ]
  },
  {
   "cell_type": "code",
   "execution_count": 39,
   "id": "3a836e26",
   "metadata": {},
   "outputs": [],
   "source": [
    "X_test,y_test = split_dataset(strat_test_set)"
   ]
  },
  {
   "cell_type": "code",
   "execution_count": 40,
   "id": "51d97570",
   "metadata": {},
   "outputs": [
    {
     "data": {
      "text/html": [
       "<div>\n",
       "<style scoped>\n",
       "    .dataframe tbody tr th:only-of-type {\n",
       "        vertical-align: middle;\n",
       "    }\n",
       "\n",
       "    .dataframe tbody tr th {\n",
       "        vertical-align: top;\n",
       "    }\n",
       "\n",
       "    .dataframe thead th {\n",
       "        text-align: right;\n",
       "    }\n",
       "</style>\n",
       "<table border=\"1\" class=\"dataframe\">\n",
       "  <thead>\n",
       "    <tr style=\"text-align: right;\">\n",
       "      <th></th>\n",
       "      <th>propertyType_encoded</th>\n",
       "      <th>numBedrooms</th>\n",
       "      <th>numBathrooms</th>\n",
       "      <th>propertySize</th>\n",
       "      <th>ber_rating_encoded</th>\n",
       "      <th>Region_encoded</th>\n",
       "    </tr>\n",
       "  </thead>\n",
       "  <tbody>\n",
       "    <tr>\n",
       "      <th>1165</th>\n",
       "      <td>9.0</td>\n",
       "      <td>3</td>\n",
       "      <td>1</td>\n",
       "      <td>118.992895</td>\n",
       "      <td>8.0</td>\n",
       "      <td>0.0</td>\n",
       "    </tr>\n",
       "    <tr>\n",
       "      <th>2964</th>\n",
       "      <td>2.0</td>\n",
       "      <td>2</td>\n",
       "      <td>1</td>\n",
       "      <td>101.000000</td>\n",
       "      <td>8.0</td>\n",
       "      <td>6.0</td>\n",
       "    </tr>\n",
       "    <tr>\n",
       "      <th>3660</th>\n",
       "      <td>6.0</td>\n",
       "      <td>3</td>\n",
       "      <td>1</td>\n",
       "      <td>82.000000</td>\n",
       "      <td>15.0</td>\n",
       "      <td>7.0</td>\n",
       "    </tr>\n",
       "    <tr>\n",
       "      <th>3468</th>\n",
       "      <td>0.0</td>\n",
       "      <td>2</td>\n",
       "      <td>1</td>\n",
       "      <td>56.000000</td>\n",
       "      <td>9.0</td>\n",
       "      <td>1.0</td>\n",
       "    </tr>\n",
       "    <tr>\n",
       "      <th>3873</th>\n",
       "      <td>1.0</td>\n",
       "      <td>3</td>\n",
       "      <td>1</td>\n",
       "      <td>107.000000</td>\n",
       "      <td>6.0</td>\n",
       "      <td>1.0</td>\n",
       "    </tr>\n",
       "    <tr>\n",
       "      <th>...</th>\n",
       "      <td>...</td>\n",
       "      <td>...</td>\n",
       "      <td>...</td>\n",
       "      <td>...</td>\n",
       "      <td>...</td>\n",
       "      <td>...</td>\n",
       "    </tr>\n",
       "    <tr>\n",
       "      <th>3024</th>\n",
       "      <td>1.0</td>\n",
       "      <td>4</td>\n",
       "      <td>1</td>\n",
       "      <td>158.000000</td>\n",
       "      <td>8.0</td>\n",
       "      <td>6.0</td>\n",
       "    </tr>\n",
       "    <tr>\n",
       "      <th>494</th>\n",
       "      <td>9.0</td>\n",
       "      <td>2</td>\n",
       "      <td>1</td>\n",
       "      <td>118.992895</td>\n",
       "      <td>13.0</td>\n",
       "      <td>0.0</td>\n",
       "    </tr>\n",
       "    <tr>\n",
       "      <th>1698</th>\n",
       "      <td>6.0</td>\n",
       "      <td>3</td>\n",
       "      <td>2</td>\n",
       "      <td>90.000000</td>\n",
       "      <td>9.0</td>\n",
       "      <td>1.0</td>\n",
       "    </tr>\n",
       "    <tr>\n",
       "      <th>74</th>\n",
       "      <td>2.0</td>\n",
       "      <td>5</td>\n",
       "      <td>3</td>\n",
       "      <td>205.000000</td>\n",
       "      <td>6.0</td>\n",
       "      <td>3.0</td>\n",
       "    </tr>\n",
       "    <tr>\n",
       "      <th>2030</th>\n",
       "      <td>2.0</td>\n",
       "      <td>4</td>\n",
       "      <td>1</td>\n",
       "      <td>160.000000</td>\n",
       "      <td>6.0</td>\n",
       "      <td>3.0</td>\n",
       "    </tr>\n",
       "  </tbody>\n",
       "</table>\n",
       "<p>793 rows × 6 columns</p>\n",
       "</div>"
      ],
      "text/plain": [
       "      propertyType_encoded  numBedrooms  numBathrooms  propertySize  \\\n",
       "1165                   9.0            3             1    118.992895   \n",
       "2964                   2.0            2             1    101.000000   \n",
       "3660                   6.0            3             1     82.000000   \n",
       "3468                   0.0            2             1     56.000000   \n",
       "3873                   1.0            3             1    107.000000   \n",
       "...                    ...          ...           ...           ...   \n",
       "3024                   1.0            4             1    158.000000   \n",
       "494                    9.0            2             1    118.992895   \n",
       "1698                   6.0            3             2     90.000000   \n",
       "74                     2.0            5             3    205.000000   \n",
       "2030                   2.0            4             1    160.000000   \n",
       "\n",
       "      ber_rating_encoded  Region_encoded  \n",
       "1165                 8.0             0.0  \n",
       "2964                 8.0             6.0  \n",
       "3660                15.0             7.0  \n",
       "3468                 9.0             1.0  \n",
       "3873                 6.0             1.0  \n",
       "...                  ...             ...  \n",
       "3024                 8.0             6.0  \n",
       "494                 13.0             0.0  \n",
       "1698                 9.0             1.0  \n",
       "74                   6.0             3.0  \n",
       "2030                 6.0             3.0  \n",
       "\n",
       "[793 rows x 6 columns]"
      ]
     },
     "execution_count": 40,
     "metadata": {},
     "output_type": "execute_result"
    }
   ],
   "source": [
    "X_test"
   ]
  },
  {
   "cell_type": "code",
   "execution_count": 41,
   "id": "e1389e5c",
   "metadata": {},
   "outputs": [
    {
     "data": {
      "text/html": [
       "<div>\n",
       "<style scoped>\n",
       "    .dataframe tbody tr th:only-of-type {\n",
       "        vertical-align: middle;\n",
       "    }\n",
       "\n",
       "    .dataframe tbody tr th {\n",
       "        vertical-align: top;\n",
       "    }\n",
       "\n",
       "    .dataframe thead th {\n",
       "        text-align: right;\n",
       "    }\n",
       "</style>\n",
       "<table border=\"1\" class=\"dataframe\">\n",
       "  <thead>\n",
       "    <tr style=\"text-align: right;\">\n",
       "      <th></th>\n",
       "      <th>price_category</th>\n",
       "    </tr>\n",
       "  </thead>\n",
       "  <tbody>\n",
       "    <tr>\n",
       "      <th>1165</th>\n",
       "      <td>1</td>\n",
       "    </tr>\n",
       "    <tr>\n",
       "      <th>2964</th>\n",
       "      <td>0</td>\n",
       "    </tr>\n",
       "    <tr>\n",
       "      <th>3660</th>\n",
       "      <td>0</td>\n",
       "    </tr>\n",
       "    <tr>\n",
       "      <th>3468</th>\n",
       "      <td>1</td>\n",
       "    </tr>\n",
       "    <tr>\n",
       "      <th>3873</th>\n",
       "      <td>1</td>\n",
       "    </tr>\n",
       "    <tr>\n",
       "      <th>...</th>\n",
       "      <td>...</td>\n",
       "    </tr>\n",
       "    <tr>\n",
       "      <th>3024</th>\n",
       "      <td>1</td>\n",
       "    </tr>\n",
       "    <tr>\n",
       "      <th>494</th>\n",
       "      <td>1</td>\n",
       "    </tr>\n",
       "    <tr>\n",
       "      <th>1698</th>\n",
       "      <td>0</td>\n",
       "    </tr>\n",
       "    <tr>\n",
       "      <th>74</th>\n",
       "      <td>5</td>\n",
       "    </tr>\n",
       "    <tr>\n",
       "      <th>2030</th>\n",
       "      <td>0</td>\n",
       "    </tr>\n",
       "  </tbody>\n",
       "</table>\n",
       "<p>793 rows × 1 columns</p>\n",
       "</div>"
      ],
      "text/plain": [
       "      price_category\n",
       "1165               1\n",
       "2964               0\n",
       "3660               0\n",
       "3468               1\n",
       "3873               1\n",
       "...              ...\n",
       "3024               1\n",
       "494                1\n",
       "1698               0\n",
       "74                 5\n",
       "2030               0\n",
       "\n",
       "[793 rows x 1 columns]"
      ]
     },
     "execution_count": 41,
     "metadata": {},
     "output_type": "execute_result"
    }
   ],
   "source": [
    "y_test"
   ]
  },
  {
   "cell_type": "code",
   "execution_count": 42,
   "id": "bea2ccb5",
   "metadata": {},
   "outputs": [
    {
     "data": {
      "text/plain": [
       "DecisionTreeClassifier()"
      ]
     },
     "execution_count": 42,
     "metadata": {},
     "output_type": "execute_result"
    }
   ],
   "source": [
    "from sklearn.tree import DecisionTreeClassifier\n",
    "X = X_train\n",
    "y = y_train\n",
    "tree_clf = DecisionTreeClassifier()\n",
    "tree_clf.fit(X,y)"
   ]
  },
  {
   "cell_type": "code",
   "execution_count": 43,
   "id": "7e35ad4d",
   "metadata": {},
   "outputs": [],
   "source": [
    "#predict labels based on the model \n",
    "y_pred= tree_clf.predict(X_test)"
   ]
  },
  {
   "cell_type": "code",
   "execution_count": 44,
   "id": "bffb0248",
   "metadata": {},
   "outputs": [
    {
     "name": "stdout",
     "output_type": "stream",
     "text": [
      "RMSE: 1.347081287434379\n",
      "Accuracy: 0.4010088272383354\n"
     ]
    }
   ],
   "source": [
    "#calculate accuracy score\n",
    "from sklearn.metrics import accuracy_score\n",
    "from sklearn.metrics import mean_squared_error\n",
    "mse = mean_squared_error(y_test,y_pred)\n",
    "rmse = np.sqrt(mse)\n",
    "print(\"RMSE:\",rmse)\n",
    "print(\"Accuracy:\",accuracy_score(y_test, y_pred))"
   ]
  },
  {
   "cell_type": "markdown",
   "id": "9d2ca71f",
   "metadata": {},
   "source": [
    "# Optimizing Decision Tree Performance"
   ]
  },
  {
   "cell_type": "code",
   "execution_count": 45,
   "id": "a1502bab",
   "metadata": {},
   "outputs": [
    {
     "name": "stdout",
     "output_type": "stream",
     "text": [
      "0.5170347003154574 {'max_depth': 3}\n"
     ]
    }
   ],
   "source": [
    "#Optimizing Decision Tree Performance by GridSearchCV\n",
    "from sklearn import tree\n",
    "from sklearn.model_selection import GridSearchCV\n",
    "parameters = {'max_depth':range(2,20)}\n",
    "clf = GridSearchCV(tree.DecisionTreeClassifier(), parameters, n_jobs=-1)\n",
    "clf.fit(X=X_train, y=y_train)\n",
    "tree_model = clf.best_estimator_\n",
    "print (clf.best_score_, clf.best_params_) "
   ]
  },
  {
   "cell_type": "code",
   "execution_count": 46,
   "id": "b4f3da78",
   "metadata": {},
   "outputs": [
    {
     "name": "stdout",
     "output_type": "stream",
     "text": [
      "RMSE_opt: 1.1435437497937313\n",
      "Accuracy_opt: 0.519546027742749\n"
     ]
    }
   ],
   "source": [
    "from sklearn.metrics import mean_squared_error\n",
    "y_pred_opt = clf.predict(X_test)\n",
    "mse_opt = mean_squared_error(y_test,y_pred_opt)\n",
    "rmse_opt = np.sqrt(mse_opt)\n",
    "print(\"RMSE_opt:\",rmse_opt)\n",
    "print(\"Accuracy_opt:\",accuracy_score(y_test, y_pred_opt))"
   ]
  },
  {
   "cell_type": "markdown",
   "id": "bf51b1bd",
   "metadata": {},
   "source": [
    "# Predict using User-Defined Input"
   ]
  },
  {
   "cell_type": "code",
   "execution_count": 47,
   "id": "064ec49a",
   "metadata": {},
   "outputs": [
    {
     "name": "stdout",
     "output_type": "stream",
     "text": [
      "   propertyType_encodeds  numBedrooms  numBathrooms  propertySize  \\\n",
      "0                      5            3             3           200   \n",
      "\n",
      "   ber_rating_encoded  Region_encoded  \n",
      "0                   1               1  \n"
     ]
    }
   ],
   "source": [
    "#my range\n",
    "#'propertyType_encoded','numBedrooms','numBathrooms','propertySize','ber_rating_encoded','Region_encoded']\n",
    "X_user = {'propertyType_encodeds': 5,\n",
    "                      'numBedrooms': 3,\n",
    "                       'numBathrooms':3,\n",
    "                      'propertySize': 200,\n",
    "                      'ber_rating_encoded': 1,\n",
    "                      'Region_encoded':1}\n",
    "X_user = pd.DataFrame([X_user],columns=X_user.keys())\n",
    "print (X_user)"
   ]
  },
  {
   "cell_type": "code",
   "execution_count": 48,
   "id": "c77bce47",
   "metadata": {},
   "outputs": [],
   "source": [
    "#using the tree to predict my price range \n",
    "y_user = clf.predict(X_user)"
   ]
  },
  {
   "cell_type": "code",
   "execution_count": 49,
   "id": "fa008d2c",
   "metadata": {},
   "outputs": [
    {
     "name": "stdout",
     "output_type": "stream",
     "text": [
      "[1]\n"
     ]
    }
   ],
   "source": [
    "print(y_user)\n",
    "#the predicted housing price is between 200k-400k"
   ]
  }
 ],
 "metadata": {
  "kernelspec": {
   "display_name": "Python 3",
   "language": "python",
   "name": "python3"
  },
  "language_info": {
   "codemirror_mode": {
    "name": "ipython",
    "version": 3
   },
   "file_extension": ".py",
   "mimetype": "text/x-python",
   "name": "python",
   "nbconvert_exporter": "python",
   "pygments_lexer": "ipython3",
   "version": "3.8.8"
  }
 },
 "nbformat": 4,
 "nbformat_minor": 5
}
